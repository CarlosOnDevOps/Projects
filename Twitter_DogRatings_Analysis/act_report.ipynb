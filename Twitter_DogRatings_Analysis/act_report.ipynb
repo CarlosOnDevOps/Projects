{
 "cells": [
  {
   "cell_type": "markdown",
   "id": "08cde54f",
   "metadata": {},
   "source": [
    "# Tales of Tails: Analyzing Dog Ratings on Twitter\n",
    "#### Prepared by: Jose Carlos Moreno Ramirez\n",
    "#### Institution: Western Govornors University\n",
    "#### Course: Data Wrangling - D309 \n",
    "#### Project: Wrangle and Analyze Data\n",
    "---"
   ]
  },
  {
   "cell_type": "markdown",
   "id": "24d253d8",
   "metadata": {},
   "source": [
    "# Introduction\n",
    "We set out on an adventure to explore the world of dogs through the lens of Twitter by wrangling and analyzing data from the popular Twitter account named **We Rate Dogs**. This project included data collection, cleansing, exploration, and visualization, which led to the discovery of surprising facts about our furry friends and the Twitter community that adores them.\n",
    "\n",
    "---"
   ]
  },
  {
   "cell_type": "markdown",
   "id": "ae020be8",
   "metadata": {},
   "source": [
    "# Chart 1/5 - The Top 10 Predicted Dog Breeds\n",
    "\n",
    "### Observations:\n",
    "\n",
    "1. Labrador Retrievers emerged as the most popular dog breed among tweets.\n",
    "2. Surprisingly, Chihuahuas claimed the second spot, surpassing even the beloved Golden Retrievers.\n",
    "3. The top 10 list featured diverse breeds, showcasing the Twitter community's liking for a variety of furry companions."
   ]
  },
  {
   "cell_type": "markdown",
   "id": "de3f31e4",
   "metadata": {},
   "source": [
    "![The Top 10 Dog Breeds](chart_1.png)"
   ]
  },
  {
   "cell_type": "markdown",
   "id": "aa4fa188",
   "metadata": {},
   "source": [
    "---\n",
    "# Chart 2/5 - Distribution of Tweet Sources\n",
    "\n",
    "### Observations:\n",
    "\n",
    "1. Twitter for iPhone reigned supreme as the primary source of tweets within our dataset.\n",
    "2. While Twitter Web Client and TweetDeck made appearances, their usage was notably less frequent.\n",
    "3. A substantial disparity existed among tweet sources, emphasizing the dominance of Twitter for iPhone."
   ]
  },
  {
   "cell_type": "markdown",
   "id": "49597fc8",
   "metadata": {},
   "source": [
    "![chart 2](chart_2.png)"
   ]
  },
  {
   "cell_type": "markdown",
   "id": "01b3d0e4",
   "metadata": {},
   "source": [
    "---\n",
    "# Chart 3/5 - Retweet Counts vs. Favorite Counts\n",
    "\n",
    "### Observations:\n",
    "\n",
    "1. A discernible positive correlation emerged between retweet counts and favorite counts.\n",
    "2. Tweets garnering more favorites also tended to accumulate higher retweet counts, highlighting the influence of user engagement."
   ]
  },
  {
   "cell_type": "markdown",
   "id": "e2867062",
   "metadata": {},
   "source": [
    "![chart 3](chart_3.png)"
   ]
  },
  {
   "cell_type": "markdown",
   "id": "7e868520",
   "metadata": {},
   "source": [
    "---\n",
    "# Chart 4/5 - Total Retweets per Month in 2016\n",
    "\n",
    "### Observations:\n",
    "\n",
    "1. November stood out with the highest total retweets, signifying a peak in engagement during this month.\n",
    "2. In contrast, April experienced the lowest total retweets, suggesting a dip in canine-related Twitter activity.\n",
    "3. The data showcased varying retweet trends across different months in 2016, unveiling fluctuations in social media attention."
   ]
  },
  {
   "cell_type": "markdown",
   "id": "2d21a5c1",
   "metadata": {},
   "source": [
    "![chart 4](chart_4.png)"
   ]
  },
  {
   "cell_type": "markdown",
   "id": "5aab7796",
   "metadata": {},
   "source": [
    "---\n",
    "# Chart 5/5 - The Distribution of Dog Stages\n",
    "\n",
    "### Observations:\n",
    "1. Surprisingly, the `unknown` stages represent cases where Twitter users did not specify a dog stage in their tweets.\n",
    "2. The combinations of dog stages represent cases where Twitter users assigned multiple stage labels to their dogs."
   ]
  },
  {
   "cell_type": "markdown",
   "id": "deca31cf",
   "metadata": {},
   "source": [
    "![chart 5](chart_5.png)"
   ]
  },
  {
   "cell_type": "markdown",
   "id": "87b35702",
   "metadata": {},
   "source": [
    "---\n",
    "# Bonus Chart - Total Retweets per Month (2015 - 2017)\n",
    "\n",
    "### Observations:\n",
    "\n",
    "1. December emerges as the peak month for Twitter engagement with dog-related content. It seems that the holiday season brings out the most affectionate responses from Twitter users.\n",
    "\n",
    "2. In contrast, August shows the lowest total retweets. This could be attributed to the \"back to school\" mentality when people are less active on social media.\n",
    "\n",
    "3. As we analyze a broader time frame, it's evident that dog sentiment on Twitter experiences fluctuations with no clear upward or downward trend. These fluctuations could be influenced by various factors, including holidays, current events, and viral trends."
   ]
  },
  {
   "cell_type": "markdown",
   "id": "15bc7d9f",
   "metadata": {},
   "source": [
    "![bonus chart](bonus_chart.png)"
   ]
  },
  {
   "cell_type": "markdown",
   "id": "2f5c82d1",
   "metadata": {},
   "source": [
    "---\n",
    "# Final Thoughts:\n",
    "It has been informative and rewarding to explore and analyze the **We Rate Dogs** dataset from Twitter. We developed our data abilities through the process of collecting, organizing, and visualizing data, which helped us visualize interesting observations.\n",
    "\n",
    "To wrap it all up, this little adventure has been a worthwhile learning opportunity. We strengthened our data analysis skills while also developing a greater understanding of the influence of data after discovering hidden trends and patterns. Data analysis is more than simply a tool; it's a lens that helps us see the world more clearly.\n"
   ]
  },
  {
   "cell_type": "markdown",
   "id": "1b0a0d7a",
   "metadata": {},
   "source": [
    "---"
   ]
  },
  {
   "cell_type": "markdown",
   "id": "482e71af",
   "metadata": {},
   "source": [
    "END OF NOTEBOOK"
   ]
  }
 ],
 "metadata": {
  "kernelspec": {
   "display_name": "Python 3 (ipykernel)",
   "language": "python",
   "name": "python3"
  },
  "language_info": {
   "codemirror_mode": {
    "name": "ipython",
    "version": 3
   },
   "file_extension": ".py",
   "mimetype": "text/x-python",
   "name": "python",
   "nbconvert_exporter": "python",
   "pygments_lexer": "ipython3",
   "version": "3.11.4"
  }
 },
 "nbformat": 4,
 "nbformat_minor": 5
}
